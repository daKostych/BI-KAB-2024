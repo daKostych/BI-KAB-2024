{
 "cells": [
  {
   "cell_type": "markdown",
   "metadata": {
    "id": "aVAFhlpdC-Rc"
   },
   "source": [
    "Nezbytné importy.\n",
    "\n",
    "Funkce `kdf (password, salt = b'', rounds = 1)` bude sloužit k zahashování hesla, jenž se bude předávat prvním parametrem `password`. Volitelně lze ještě zadat sůl a počet iterací."
   ]
  },
  {
   "cell_type": "code",
   "execution_count": 42,
   "metadata": {
    "id": "2-tcYVsvCq0F"
   },
   "outputs": [],
   "source": [
    "import time\n",
    "import hashlib\n",
    "import sys\n",
    "import itertools\n",
    "\n",
    "# Výpočet hash z hesla s použitím soli a zvoleného počtu iterací\n",
    "def kdf (password: bytes, salt: bytes = b'', rounds: int = 1) -> bytes:\n",
    "  h = salt + password\n",
    "  for i in range(rounds):\n",
    "    dgst = hashlib.sha512()\n",
    "    dgst.update(h)\n",
    "    h = dgst.digest()\n",
    "  return h # Výsledná hash"
   ]
  },
  {
   "cell_type": "code",
   "execution_count": 43,
   "metadata": {},
   "outputs": [
    {
     "name": "stdout",
     "output_type": "stream",
     "text": [
      "b'\\x8dp\\x8d\\x18\\xb5M\\xf3\\x96-io\\x06\\x9a\\xd4-\\xadwb\\xb5\\xd4\\xd3\\xc9~\\xe5\\xfa-\\xae\\x06s\\xedFTQd\\xc0x\\xb8\\xdb=Y\\xc4\\xb9` \\xe41o\\x17\\xbb=\\x91\\xbf\\x1fk\\xc0\\x89k\\xbeuAn\\xb8\\xc3\\x85'\n",
      "8d708d18b54df3962d696f069ad42dad7762b5d4d3c97ee5fa2dae0673ed46545164c078b8db3d59c4b96020e4316f17bb3d91bf1f6bc0896bbe75416eb8c385\n"
     ]
    }
   ],
   "source": [
    "# Vyzkoušíme funkci kdf pro výpočet hashe hesla\n",
    "print(kdf(b'AAA')) # bytes\n",
    "print(kdf(b'AAA').hex()) # hex string"
   ]
  },
  {
   "cell_type": "markdown",
   "metadata": {
    "id": "0aFdjGWuDlhV"
   },
   "source": [
    "V souboru `English.dic` je seznam slov, která nám budou sloužit pro slovníkový útok, tzn. budeme uvažovat hesla pouze z tohoto seznamu. Pro následné rychlé získání hesla z hashe si předpočítáme hashe pro všechna slova v tomto seznamu.\n",
    "\n"
   ]
  },
  {
   "cell_type": "code",
   "execution_count": 44,
   "metadata": {
    "id": "mGTuPOI2Df-F"
   },
   "outputs": [],
   "source": [
    "# Načtení slov ze souboru\n",
    "with open(\"English.dic\", \"r\") as fin:\n",
    "  passwords=fin.readlines()\n",
    "\n",
    "passwords = [x.strip() for x in passwords] # Odstranění newline"
   ]
  },
  {
   "cell_type": "code",
   "execution_count": 45,
   "metadata": {
    "id": "_onSW0e6Eos8"
   },
   "outputs": [],
   "source": [
    "# Vytvoříme slovník (dictionary - dále v textu budeme používat také \"dict\" pro rozlišení datového typu v Pythonu)\n",
    "# - budou zde uloženy dvojice klíč:hodnota (hash:heslo v našem případě), indexuje se pomocí klíče\n",
    "hashPasswordTable = {kdf(bytes(x, 'utf8')):x for x in passwords}"
   ]
  },
  {
   "cell_type": "code",
   "execution_count": 46,
   "metadata": {
    "id": "llAnHMRtFK3i"
   },
   "outputs": [
    {
     "name": "stdout",
     "output_type": "stream",
     "text": [
      "AAA\n"
     ]
    }
   ],
   "source": [
    "# Příklad použití slovníku: Zachytili jsme následující hash, a víme, že heslo je ze slovníku.\n",
    "testHash = bytes.fromhex(\"8d708d18b54df3962d696f069ad42dad7762b5d4d3c97ee5fa2dae0673ed46545164c078b8db3d59c4b96020e4316f17bb3d91bf1f6bc0896bbe75416eb8c385\")\n",
    "# Jaké bylo odpovídající původní heslo?\n",
    "print(hashPasswordTable[testHash])"
   ]
  },
  {
   "cell_type": "markdown",
   "metadata": {
    "id": "RXZT9ThyFgIC"
   },
   "source": [
    "## Úkol 1\n",
    "Jak bude velká tato tabulka? Použitá hashovací funkce je SHA512.\n",
    "Stačí řádově, neuvažujte reprezentaci slovníku (datového typu dict) v Pythonu."
   ]
  },
  {
   "cell_type": "code",
   "execution_count": 47,
   "metadata": {},
   "outputs": [
    {
     "name": "stdout",
     "output_type": "stream",
     "text": [
      "Table size: 22.30 MB\n"
     ]
    }
   ],
   "source": [
    "all_passwords = [len(x.strip()) for x in passwords]\n",
    "table_size = len(passwords) * (64 + (sum(all_passwords) / len(passwords)))\n",
    "print(f'Table size:{table_size / 1024 ** 2: .2f} MB')"
   ]
  },
  {
   "cell_type": "markdown",
   "metadata": {
    "id": "RXZT9ThyFgIC"
   },
   "source": [
    "**Odpověď:**\n",
    "cca 22.3 MB"
   ]
  },
  {
   "cell_type": "markdown",
   "metadata": {
    "id": "5V5u92d8IjuI"
   },
   "source": [
    "Nyní můžeme pro srovnání zkusit rychlost nalezení hesla při použití hrubé síly (zkoušení všech možných kombinací povolených znaků hesla), nebo předpočítané tabulky.\n",
    "\n",
    "**Poznámka:** Je dobré si uvědomit, že předpočítaná tabulka je pouze ze slov ve slovníku English.dic, tzn. je už sama o sobě značně omezená. Pokud bychom předpočítávali hash pro všechna možná hesla do určité délky, tabulka by byla značně větší."
   ]
  },
  {
   "cell_type": "code",
   "execution_count": 48,
   "metadata": {
    "id": "6tAGeAVpFOvJ"
   },
   "outputs": [],
   "source": [
    "target = kdf(b'phial')"
   ]
  },
  {
   "cell_type": "code",
   "execution_count": 49,
   "metadata": {
    "id": "bEbDnSDeHGzA"
   },
   "outputs": [
    {
     "name": "stdout",
     "output_type": "stream",
     "text": [
      "phial\n",
      "CPU times: user 8.7 s, sys: 0 ns, total: 8.7 s\n",
      "Wall time: 8.7 s\n"
     ]
    }
   ],
   "source": [
    "%%time\n",
    "for x in itertools.product('abcdefghijklmnopqrstuvwxyz', repeat=5): # procházení všech kombinací malých písmen o délce 5\n",
    "  p = ''.join(x)\n",
    "  if kdf(bytes(p, 'ascii')) == target:\n",
    "    print(p)\n",
    "    break"
   ]
  },
  {
   "cell_type": "code",
   "execution_count": 50,
   "metadata": {
    "id": "u_4GNxaGHXMZ"
   },
   "outputs": [
    {
     "name": "stdout",
     "output_type": "stream",
     "text": [
      "CPU times: user 1e+03 ns, sys: 0 ns, total: 1e+03 ns\n",
      "Wall time: 2.62 µs\n"
     ]
    },
    {
     "data": {
      "text/plain": [
       "'phial'"
      ]
     },
     "execution_count": 50,
     "metadata": {},
     "output_type": "execute_result"
    }
   ],
   "source": [
    "%time\n",
    "hashPasswordTable[target]"
   ]
  },
  {
   "cell_type": "markdown",
   "metadata": {
    "id": "uh7WbTSDI807"
   },
   "source": [
    "## Úkol 2\n",
    "Pro zamezení nebo ztížení využití předpočítaných tabulek se využívá sůl.\n",
    "\n",
    "Prostá hash hesla: hash = H (password)\n",
    "\n",
    "Osolená hash: salted_hash = H (salt || password)\n",
    "\n",
    "Uvažujme zjednodušený případ, kdy sůl může být pouze jeden malý znak (a-z).\n",
    "Vytvořte novou předpočítanou tabulku, která bude obsahovat všechny možné kombinace soli a slov ze seznamu výše. (Pro naše účely se sůl jednoduše zřetězí se slovem před zahashováním, lze ji také zadat jako argument volání funkce `kdf`)\n",
    "\n",
    "-------------------\n",
    "\n",
    "Jak bude velká tato tabulka?"
   ]
  },
  {
   "cell_type": "code",
   "execution_count": 51,
   "metadata": {},
   "outputs": [],
   "source": [
    "saltedhashPasswordTable = {}\n",
    "\n",
    "saltedhashPasswordTable = {kdf(bytes(password, 'utf-8'), bytes(chr(salt), 'utf-8')): password\n",
    "                           for salt in range(ord('a'), ord('z') + 1)\n",
    "                           for password in passwords}"
   ]
  },
  {
   "cell_type": "code",
   "execution_count": 57,
   "metadata": {},
   "outputs": [
    {
     "name": "stdout",
     "output_type": "stream",
     "text": [
      "Salted table size: 579.91 MB\n"
     ]
    }
   ],
   "source": [
    "print(f'Salted table size:{table_size * 26 / 1024 ** 2: .2f} MB')"
   ]
  },
  {
   "cell_type": "markdown",
   "metadata": {
    "id": "uh7WbTSDI807"
   },
   "source": [
    "**Odpověď:**\n",
    "cca 579.91 MB\n",
    "\n",
    "\n",
    "Jak dlouhá by měla být sůl v případě, že bychom chtěli, aby výsledná předpočítaná tabulka byla větší než 1TB? Předpokládejte stále stejný slovník, do velikosti tabulky pro jednoduchost stačí uvažovat pouze velikost 1 hash a její počet (nemusíte zakomponovávat velikost řetězců reprezentující heslo a sůl).\n",
    "U délky soli uvažujte 2 případy:\n",
    "1) Sůl sestávající z malých znaků (a-z)"
   ]
  },
  {
   "cell_type": "code",
   "execution_count": 61,
   "metadata": {},
   "outputs": [
    {
     "name": "stdout",
     "output_type": "stream",
     "text": [
      "Salt should contain 4 characters.\n"
     ]
    }
   ],
   "source": [
    "salt_length = 0\n",
    "while(True):\n",
    "    # 26^salt_length different possibilities of salt\n",
    "    if (26 ** salt_length) * table_size / 1024 ** 4 > 1:\n",
    "        break\n",
    "    salt_length = salt_length + 1\n",
    "print(f'Salt should contain {salt_length} characters.')"
   ]
  },
  {
   "cell_type": "markdown",
   "metadata": {
    "id": "uh7WbTSDI807"
   },
   "source": [
    "2) Sůl sestávající z libovolných bytů (hexadecimálně 0x00-0xFF)\n",
    "(Může být výhodné si nejprve vyjádřit, jakou entropii by sůl měla mít.)"
   ]
  },
  {
   "cell_type": "code",
   "execution_count": 63,
   "metadata": {},
   "outputs": [
    {
     "name": "stdout",
     "output_type": "stream",
     "text": [
      "Salt should contain 2 characters.\n"
     ]
    }
   ],
   "source": [
    "salt_length = 0\n",
    "while(True):\n",
    "    # 256^salt_length different possibilities of salt\n",
    "    if (256 ** salt_length) * table_size / 1024 ** 4 > 1:\n",
    "        break\n",
    "    salt_length = salt_length + 1\n",
    "print(f'Salt should contain {salt_length} characters.')"
   ]
  },
  {
   "cell_type": "markdown",
   "metadata": {
    "id": "uh7WbTSDI807"
   },
   "source": [
    "**Odpověď:** \n",
    "1. Delka 4 znaky.\n",
    "2. Delka 2 znaky.\n",
    "\n",
    "-------------------\n",
    "Poté si zvolte náhodně sůl (1 znak) a 1 slovo ze seznamu, které poslouží jako vaše heslo. Tuto kombinaci zahashujte, vzájemně si pošlete ve dvojicích a zjistěte heslo vašeho kolegy.\n",
    "\n",
    "**Poznámka:** Kromě samotné hashe můžete kolegovi prozradit i sůl. V běžném scénáři (únik databáze) jsou k dispozici všechny údaje nutné pro výpočet hashe (použitý algoritmus, sůl, počet iterací), kromě samotného hesla."
   ]
  },
  {
   "cell_type": "markdown",
   "metadata": {
    "id": "LNx7o_NBK6tc"
   },
   "source": [
    "Kromě soli se pro ztížení útoků využívá také vyšší počet iterací vybrané hashovací funkce."
   ]
  },
  {
   "cell_type": "code",
   "execution_count": 64,
   "metadata": {
    "id": "edtoA3WULkiv"
   },
   "outputs": [
    {
     "name": "stdout",
     "output_type": "stream",
     "text": [
      "CPU times: user 7.6 ms, sys: 0 ns, total: 7.6 ms\n",
      "Wall time: 7.51 ms\n"
     ]
    },
    {
     "data": {
      "text/plain": [
       "b'\\xbb,;(!\\x8eb\\xc9\\x9a \\xaa\\xdfS\\x8b\\xee\\xe0\\xcbsKR\\x9aT\\xfa\\xd3d\\x8c?\\xf2\\x81\\xfd\\xe9\\x8e*\\xfd[uG\\x9dM\\xb4>e\\xaeP\\xd6\\x9f$\\xad\\xaf\\xc2\\xf3/ \\xc8m\\xbdG\\xf7]\\xa1\\x08\\xa4t\\xc4'"
      ]
     },
     "execution_count": 64,
     "metadata": {},
     "output_type": "execute_result"
    }
   ],
   "source": [
    "%%time\n",
    "kdf(b'abcdefgh', rounds=10000)"
   ]
  },
  {
   "cell_type": "markdown",
   "metadata": {
    "id": "J0hQA24snnDY"
   },
   "source": [
    "## Úkol 3\n",
    "\n",
    "Spočtěte váš hash rate (počet hashů za vteřinu, které dokážete spočítat)."
   ]
  },
  {
   "cell_type": "code",
   "execution_count": 77,
   "metadata": {},
   "outputs": [
    {
     "name": "stdout",
     "output_type": "stream",
     "text": [
      "Hash rate: 952208\n"
     ]
    }
   ],
   "source": [
    "start = time.time()\n",
    "hash_rate = 0\n",
    "while time.time() - start <= 1:\n",
    "    kdf(b\"In the process of earning two points.....\")\n",
    "    hash_rate = hash_rate + 1\n",
    "print(f'Hash rate: {hash_rate}')"
   ]
  },
  {
   "cell_type": "markdown",
   "metadata": {
    "id": "J0hQA24snnDY"
   },
   "source": [
    "**Odpověď:**  952208\n",
    "\n",
    "Kolik iterací hashovací fce bude potřeba nastavit při tvorbě hashe z hesla, aby útočníkovi trvalo přibližně rok jeho prolomení? Předpokládejme, že heslo je vytvořeno zcela náhodně z tisknutelných ASCII znaků (95), je dlouhé 8 znaků, hash rate útočníka je 1000000000000 hash/vteřina (1 terahash/s). Jak dlouho by v takovém případě trval výpočet hash z hesla na vašem zařízení?"
   ]
  },
  {
   "cell_type": "code",
   "execution_count": 82,
   "metadata": {},
   "outputs": [
    {
     "name": "stdout",
     "output_type": "stream",
     "text": [
      "Iteration number: 4754\n"
     ]
    }
   ],
   "source": [
    "combinations_of_passwords = 95 ** 8\n",
    "striker_hash_rate = 10 ** 12\n",
    "year_in_seconds = 365 * 24 * 60 * 60\n",
    "\n",
    "hashes_per_year = year_in_seconds * striker_hash_rate\n",
    "iteration_number = hashes_per_year / combinations_of_passwords\n",
    "print(f'Iteration number: {iteration_number:.0f}')"
   ]
  },
  {
   "cell_type": "code",
   "execution_count": 87,
   "metadata": {},
   "outputs": [
    {
     "name": "stdout",
     "output_type": "stream",
     "text": [
      "CPU times: user 2.87 ms, sys: 0 ns, total: 2.87 ms\n",
      "Wall time: 2.87 ms\n"
     ]
    },
    {
     "data": {
      "text/plain": [
       "b'\\xf2\\xb2<\\xe2g2\\xbc>Jr\\xffck\\x83B\\xbcT\\x17\\xcb\\xcc\\xd0\\xd6\\x9d=\\xf49\\xfd{\\x82x\\x1c\\x81\\x03\\xe5F\\'\\xb6B+\\x85\\x87\"B;2>\\x9c\\x99d\\xa1ha\\x87\\x8e\\xc5\\xea\\n5\\xdc\\x8d\\xcc51\\xaf'"
      ]
     },
     "execution_count": 87,
     "metadata": {},
     "output_type": "execute_result"
    }
   ],
   "source": [
    "%%time\n",
    "kdf(b'8charsIn', rounds=4754)"
   ]
  },
  {
   "cell_type": "markdown",
   "metadata": {
    "id": "J0hQA24snnDY"
   },
   "source": [
    "**Odpověď:**\n",
    "* Number of iteration: 4754\n",
    "* My time: CPU times: user 2.87 ms, sys: 0 ns, total: 2.87 ms, \n",
    "Wall time: 2.87 ms"
   ]
  }
 ],
 "metadata": {
  "colab": {
   "provenance": []
  },
  "kernelspec": {
   "display_name": "Python 3 (ipykernel)",
   "language": "python",
   "name": "python3"
  },
  "language_info": {
   "codemirror_mode": {
    "name": "ipython",
    "version": 3
   },
   "file_extension": ".py",
   "mimetype": "text/x-python",
   "name": "python",
   "nbconvert_exporter": "python",
   "pygments_lexer": "ipython3",
   "version": "3.10.12"
  }
 },
 "nbformat": 4,
 "nbformat_minor": 4
}
